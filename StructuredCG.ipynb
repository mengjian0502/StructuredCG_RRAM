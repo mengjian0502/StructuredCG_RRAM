{
 "cells": [
  {
   "cell_type": "code",
   "execution_count": 1,
   "id": "functioning-burlington",
   "metadata": {},
   "outputs": [],
   "source": [
    "import torch\n",
    "import torch.nn.functional as F"
   ]
  },
  {
   "cell_type": "markdown",
   "id": "mineral-refrigerator",
   "metadata": {},
   "source": [
    "### Input activations"
   ]
  },
  {
   "cell_type": "code",
   "execution_count": 2,
   "id": "happy-gilbert",
   "metadata": {},
   "outputs": [],
   "source": [
    "# input\n",
    "x = torch.randn(1, 64, 32, 32)\n",
    "w = torch.randn(64, 64, 3, 3)"
   ]
  },
  {
   "cell_type": "code",
   "execution_count": 3,
   "id": "compound-lafayette",
   "metadata": {},
   "outputs": [],
   "source": [
    "mask_base = torch.zeros_like(w.data)\n",
    "out_channels = w.size(1)\n",
    "in_channels = w.size(0)\n",
    "cg_groups = 4"
   ]
  },
  {
   "cell_type": "code",
   "execution_count": 4,
   "id": "elegant-friendship",
   "metadata": {},
   "outputs": [],
   "source": [
    "cg_out_chunk_size = out_channels // cg_groups\n",
    "cg_in_chunk_size = in_channels // cg_groups\n",
    "for i in range(cg_groups):\n",
    "    mask_base[i*cg_out_chunk_size:(i+1)*cg_out_chunk_size,i*cg_in_chunk_size:(i+1)*cg_in_chunk_size,:,:] = 1"
   ]
  },
  {
   "cell_type": "code",
   "execution_count": 5,
   "id": "neural-philip",
   "metadata": {},
   "outputs": [
    {
     "name": "stdout",
     "output_type": "stream",
     "text": [
      "[1, 64, 32, 32]\n"
     ]
    }
   ],
   "source": [
    "Yp = F.conv2d(x, w*mask_base, None, stride=1, padding=1)\n",
    "print(list(Yp.size()))"
   ]
  },
  {
   "cell_type": "code",
   "execution_count": 6,
   "id": "acknowledged-township",
   "metadata": {},
   "outputs": [],
   "source": [
    "slice_size = 16\n",
    "Yp_ = F.avg_pool3d(Yp, kernel_size=(slice_size,1,1), stride=(slice_size, 1, 1))\n",
    "Yp_ = Yp_.repeat_interleave(slice_size, dim=1)"
   ]
  },
  {
   "cell_type": "code",
   "execution_count": 7,
   "id": "ranking-simon",
   "metadata": {},
   "outputs": [],
   "source": [
    "class Greater_Than(torch.autograd.Function):\n",
    "    @staticmethod\n",
    "    def forward(ctx, input):\n",
    "        return torch.gt(input, 0).float()\n",
    "\n",
    "    def backward(ctx, grad_output):\n",
    "        grad_input = grad_output.clone()\n",
    "        return grad_input, None "
   ]
  },
  {
   "cell_type": "code",
   "execution_count": 8,
   "id": "damaged-canadian",
   "metadata": {},
   "outputs": [],
   "source": [
    "k = 0.25\n",
    "cg_alpha=2.0\n",
    "cg_threshold_init = -6.0\n",
    "\n",
    "cg_bn = F.instance_norm\n",
    "cg_gt = Greater_Than.apply\n",
    "cg_threshold = cg_threshold_init * torch.ones(1, out_channels, 1, 1)\n",
    "\n",
    "pre_d = cg_alpha*(cg_bn(Yp_)-cg_threshold)\n",
    "d = cg_gt(torch.nn.functional.hardtanh(k*(pre_d+2), min_val=0., max_val=1.)-0.5)"
   ]
  },
  {
   "cell_type": "code",
   "execution_count": 9,
   "id": "moral-activation",
   "metadata": {},
   "outputs": [
    {
     "name": "stdout",
     "output_type": "stream",
     "text": [
      "tensor([1.])\n"
     ]
    }
   ],
   "source": [
    "print(d.unique())"
   ]
  }
 ],
 "metadata": {
  "kernelspec": {
   "display_name": "Python 3",
   "language": "python",
   "name": "python3"
  },
  "language_info": {
   "codemirror_mode": {
    "name": "ipython",
    "version": 3
   },
   "file_extension": ".py",
   "mimetype": "text/x-python",
   "name": "python",
   "nbconvert_exporter": "python",
   "pygments_lexer": "ipython3",
   "version": "3.7.4"
  }
 },
 "nbformat": 4,
 "nbformat_minor": 5
}
